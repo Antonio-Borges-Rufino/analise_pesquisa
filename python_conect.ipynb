{
 "cells": [
  {
   "cell_type": "code",
   "execution_count": 1,
   "id": "b526d2b6",
   "metadata": {},
   "outputs": [],
   "source": [
    "import mysql.connector\n",
    "from mysql.connector import errorcode"
   ]
  },
  {
   "cell_type": "markdown",
   "id": "1183d6b5",
   "metadata": {},
   "source": [
    "# Teste de conexão"
   ]
  },
  {
   "cell_type": "code",
   "execution_count": null,
   "id": "ed88ee56",
   "metadata": {},
   "outputs": [],
   "source": [
    "try:\n",
    "    db_connection = mysql.connector.connect(host='localhost', user='root', password='', database='')\n",
    "    print(\"conexao feita\")\n",
    "except mysql.connector.Error as error:\n",
    "    if error.errno == errorcode.ER_BAD_DB_ERROR:\n",
    "        print(\"database nao existe\")\n",
    "    elif error.errno == errorcode.ER_ACCESS_DENIED_ERROR:\n",
    "        print(\"senha ou usuario errado\")\n",
    "    else:\n",
    "        print(error)\n",
    "else:\n",
    "    db_connection.close()"
   ]
  },
  {
   "cell_type": "markdown",
   "id": "5e73ad3a",
   "metadata": {},
   "source": [
    "# Criando a database"
   ]
  },
  {
   "cell_type": "code",
   "execution_count": null,
   "id": "fb5c1ce9",
   "metadata": {},
   "outputs": [],
   "source": [
    "db_connection = mysql.connector.connect(host='localhost', user='root', password='', database='')\n",
    "cursor = db_connection.cursor()\n",
    "sql = \"CREATE DATABASE trabalho_pratico_m2\"\n",
    "cursor.execute(sql)\n",
    "db_connection.close()"
   ]
  },
  {
   "cell_type": "markdown",
   "id": "728c7ce1",
   "metadata": {},
   "source": [
    "# Criando a tabela bebida"
   ]
  },
  {
   "cell_type": "code",
   "execution_count": null,
   "id": "2e666ced",
   "metadata": {},
   "outputs": [],
   "source": [
    "db_connection = mysql.connector.connect(host='localhost', user='root', password='', database='trabalho_pratico_m2')\n",
    "cursor = db_connection.cursor()\n",
    "sql = \"CREATE TABLE bebida (cod_bebida INT PRIMARY KEY, bebida VARCHAR(45))\"\n",
    "cursor.execute(sql)"
   ]
  },
  {
   "cell_type": "markdown",
   "id": "a263fef9",
   "metadata": {},
   "source": [
    "# Criando a tabela animal de estimação"
   ]
  },
  {
   "cell_type": "code",
   "execution_count": null,
   "id": "1acae4cf",
   "metadata": {},
   "outputs": [],
   "source": [
    "sql = \"CREATE TABLE animal_estimacao (cod_animal_estimacao INT PRIMARY KEY, animal VARCHAR(45))\"\n",
    "cursor.execute(sql)"
   ]
  },
  {
   "cell_type": "markdown",
   "id": "9ff53acc",
   "metadata": {},
   "source": [
    "# Criando a tabela clima"
   ]
  },
  {
   "cell_type": "code",
   "execution_count": null,
   "id": "a76ddb95",
   "metadata": {},
   "outputs": [],
   "source": [
    "sql = \"CREATE TABLE clima (cod_clima INT PRIMARY KEY, clima VARCHAR(45))\"\n",
    "cursor.execute(sql)"
   ]
  },
  {
   "cell_type": "markdown",
   "id": "62a8b7fa",
   "metadata": {},
   "source": [
    "# Criando a tabela hobbie"
   ]
  },
  {
   "cell_type": "code",
   "execution_count": null,
   "id": "cbfb800e",
   "metadata": {},
   "outputs": [],
   "source": [
    "sql = \"CREATE TABLE hobbie (cod_hobbie INT PRIMARY KEY, hobbie VARCHAR(45))\"\n",
    "cursor.execute(sql)"
   ]
  },
  {
   "cell_type": "markdown",
   "id": "642d5130",
   "metadata": {},
   "source": [
    "# Criando a tabela pessoa"
   ]
  },
  {
   "cell_type": "code",
   "execution_count": null,
   "id": "5242bb9f",
   "metadata": {},
   "outputs": [],
   "source": [
    "sql = \"CREATE TABLE pessoa (cod_pessoa INT PRIMARY KEY, genero VARCHAR(45), data_nascimento DATE)\"\n",
    "cursor.execute(sql)"
   ]
  },
  {
   "cell_type": "markdown",
   "id": "a55eaf0c",
   "metadata": {},
   "source": [
    "# Criando a tabela pesquisa"
   ]
  },
  {
   "cell_type": "code",
   "execution_count": null,
   "id": "9d384d08",
   "metadata": {},
   "outputs": [],
   "source": [
    "sql = \"CREATE TABLE pesquisa (cod_pesquisa INT PRIMARY KEY, data_pesquisa DATE,cod_pessoa INT,cod_animal_estimacao INT,cod_bebida INT,cod_hobbie INT,cod_clima INT)\"\n",
    "cursor.execute(sql)\n",
    "db_connection.close()"
   ]
  },
  {
   "cell_type": "markdown",
   "id": "2fc5e67a",
   "metadata": {},
   "source": [
    "# Adicionando as foreign keys"
   ]
  },
  {
   "cell_type": "code",
   "execution_count": null,
   "id": "9b238aab",
   "metadata": {},
   "outputs": [],
   "source": [
    "db_connection = mysql.connector.connect(host='localhost', user='root', password='', database='trabalho_pratico_m2')\n",
    "cursor = db_connection.cursor()\n",
    "sql = \"ALTER TABLE pesquisa ADD FOREIGN KEY (cod_pessoa) REFERENCES pessoa (cod_pessoa)\"\n",
    "cursor.execute(sql)\n",
    "sql = \"ALTER TABLE pesquisa ADD FOREIGN KEY (cod_animal_estimacao) REFERENCES animal_estimacao (cod_animal_estimacao)\"\n",
    "cursor.execute(sql)\n",
    "sql = \"ALTER TABLE pesquisa ADD FOREIGN KEY (cod_bebida) REFERENCES bebida (cod_bebida)\"\n",
    "cursor.execute(sql)\n",
    "sql = \"ALTER TABLE pesquisa ADD FOREIGN KEY (cod_hobbie) REFERENCES hobbie (cod_hobbie)\"\n",
    "cursor.execute(sql)\n",
    "sql = \"ALTER TABLE pesquisa ADD FOREIGN KEY (cod_clima) REFERENCES clima (cod_clima)\"\n",
    "cursor.execute(sql)\n",
    "db_connection.close()"
   ]
  },
  {
   "cell_type": "markdown",
   "id": "5597891a",
   "metadata": {},
   "source": [
    "# Carregando os dados "
   ]
  },
  {
   "cell_type": "code",
   "execution_count": 2,
   "id": "b4d3354e",
   "metadata": {},
   "outputs": [],
   "source": [
    "import pandas as pd\n",
    "import os"
   ]
  },
  {
   "cell_type": "markdown",
   "id": "e4caef26",
   "metadata": {},
   "source": [
    "1. Lendo os dados"
   ]
  },
  {
   "cell_type": "code",
   "execution_count": 3,
   "id": "b2b4c318",
   "metadata": {},
   "outputs": [],
   "source": [
    "arq = os.listdir('/root/BASE_TP/')\n",
    "dados = '/root/BASE_TP/'+arq.pop()\n",
    "result = pd.read_csv(dados,sep='|',encoding='latin-1')\n",
    "\n",
    "for x in arq:\n",
    "    dados = '/root/BASE_TP/'+x\n",
    "    df = pd.read_csv(dados,sep='|',encoding='latin-1')\n",
    "    result = pd.concat([result, df], ignore_index=True)\n",
    "df = result"
   ]
  },
  {
   "cell_type": "code",
   "execution_count": 4,
   "id": "0f668848",
   "metadata": {},
   "outputs": [
    {
     "data": {
      "text/html": [
       "<div>\n",
       "<style scoped>\n",
       "    .dataframe tbody tr th:only-of-type {\n",
       "        vertical-align: middle;\n",
       "    }\n",
       "\n",
       "    .dataframe tbody tr th {\n",
       "        vertical-align: top;\n",
       "    }\n",
       "\n",
       "    .dataframe thead th {\n",
       "        text-align: right;\n",
       "    }\n",
       "</style>\n",
       "<table border=\"1\" class=\"dataframe\">\n",
       "  <thead>\n",
       "    <tr style=\"text-align: right;\">\n",
       "      <th></th>\n",
       "      <th>cod_pessoa</th>\n",
       "      <th>data_coleta</th>\n",
       "      <th>genero</th>\n",
       "      <th>data_nascimento</th>\n",
       "      <th>animal_estimacao</th>\n",
       "      <th>clima</th>\n",
       "      <th>bebida_favorita</th>\n",
       "      <th>hobbies</th>\n",
       "    </tr>\n",
       "  </thead>\n",
       "  <tbody>\n",
       "    <tr>\n",
       "      <th>0</th>\n",
       "      <td>10141743</td>\n",
       "      <td>2020-01-01</td>\n",
       "      <td>Masculino</td>\n",
       "      <td>1981-04-25</td>\n",
       "      <td>peixe</td>\n",
       "      <td>frio</td>\n",
       "      <td>Cerveja</td>\n",
       "      <td>Praticar esporte</td>\n",
       "    </tr>\n",
       "    <tr>\n",
       "      <th>1</th>\n",
       "      <td>10141860</td>\n",
       "      <td>2020-01-01</td>\n",
       "      <td>Feminino</td>\n",
       "      <td>1966-01-19</td>\n",
       "      <td>peixe</td>\n",
       "      <td>quente</td>\n",
       "      <td>Café</td>\n",
       "      <td>Assistir TV</td>\n",
       "    </tr>\n",
       "    <tr>\n",
       "      <th>2</th>\n",
       "      <td>10142548</td>\n",
       "      <td>2020-01-01</td>\n",
       "      <td>Masculino</td>\n",
       "      <td>1973-08-02</td>\n",
       "      <td>tartaruga</td>\n",
       "      <td>frio</td>\n",
       "      <td>Café</td>\n",
       "      <td>Ler livros</td>\n",
       "    </tr>\n",
       "    <tr>\n",
       "      <th>3</th>\n",
       "      <td>10142591</td>\n",
       "      <td>2020-01-01</td>\n",
       "      <td>Masculino</td>\n",
       "      <td>1997-03-05</td>\n",
       "      <td>gato</td>\n",
       "      <td>moderado</td>\n",
       "      <td>Cerveja</td>\n",
       "      <td>Aprender algo novo</td>\n",
       "    </tr>\n",
       "    <tr>\n",
       "      <th>4</th>\n",
       "      <td>10142654</td>\n",
       "      <td>2020-01-01</td>\n",
       "      <td>Feminino</td>\n",
       "      <td>1969-08-05</td>\n",
       "      <td>tartaruga</td>\n",
       "      <td>moderado</td>\n",
       "      <td>Café</td>\n",
       "      <td>Assistir TV</td>\n",
       "    </tr>\n",
       "  </tbody>\n",
       "</table>\n",
       "</div>"
      ],
      "text/plain": [
       "   cod_pessoa data_coleta     genero data_nascimento animal_estimacao  \\\n",
       "0    10141743  2020-01-01  Masculino      1981-04-25            peixe   \n",
       "1    10141860  2020-01-01   Feminino      1966-01-19            peixe   \n",
       "2    10142548  2020-01-01  Masculino      1973-08-02        tartaruga   \n",
       "3    10142591  2020-01-01  Masculino      1997-03-05             gato   \n",
       "4    10142654  2020-01-01   Feminino      1969-08-05        tartaruga   \n",
       "\n",
       "      clima bebida_favorita             hobbies  \n",
       "0      frio         Cerveja    Praticar esporte  \n",
       "1    quente            Café         Assistir TV  \n",
       "2      frio            Café          Ler livros  \n",
       "3  moderado         Cerveja  Aprender algo novo  \n",
       "4  moderado            Café         Assistir TV  "
      ]
     },
     "execution_count": 4,
     "metadata": {},
     "output_type": "execute_result"
    }
   ],
   "source": [
    "df.head(5)"
   ]
  },
  {
   "cell_type": "markdown",
   "id": "ce225f9a",
   "metadata": {},
   "source": [
    "# Carregando a tabela animal_estimacao"
   ]
  },
  {
   "cell_type": "code",
   "execution_count": 8,
   "id": "13f21eb4",
   "metadata": {},
   "outputs": [
    {
     "data": {
      "text/plain": [
       "['peixe', 'tartaruga', 'gato', 'cachorro']"
      ]
     },
     "execution_count": 8,
     "metadata": {},
     "output_type": "execute_result"
    }
   ],
   "source": [
    "df['animal_estimacao'].unique().tolist()"
   ]
  },
  {
   "cell_type": "code",
   "execution_count": 10,
   "id": "a87a5d35",
   "metadata": {},
   "outputs": [],
   "source": [
    "db_connection = mysql.connector.connect(host='localhost', user='root', password='', database='trabalho_pratico_m2')\n",
    "cursor = db_connection.cursor()\n",
    "g = df['animal_estimacao'].unique().tolist()\n",
    "count = 1\n",
    "for x in g:\n",
    "    sql = \"INSERT INTO animal_estimacao (cod_animal_estimacao,animal) VALUES ({},'{}')\".format(count,x)\n",
    "    cursor.execute(sql)\n",
    "    db_connection.commit()\n",
    "    count = count + 1\n",
    "db_connection.close()"
   ]
  },
  {
   "cell_type": "markdown",
   "id": "44c2cfa0",
   "metadata": {},
   "source": [
    "# Carregando a tabela bebida"
   ]
  },
  {
   "cell_type": "code",
   "execution_count": 12,
   "id": "2211e3c6",
   "metadata": {},
   "outputs": [],
   "source": [
    "db_connection = mysql.connector.connect(host='localhost', user='root', password='', database='trabalho_pratico_m2')\n",
    "cursor = db_connection.cursor()\n",
    "g = df['bebida_favorita'].unique().tolist()\n",
    "count = 1\n",
    "for x in g:\n",
    "    sql = \"INSERT INTO bebida (cod_bebida,bebida) VALUES ({},'{}')\".format(count,x)\n",
    "    cursor.execute(sql)\n",
    "    db_connection.commit()\n",
    "    count = count + 1\n",
    "db_connection.close()"
   ]
  },
  {
   "cell_type": "markdown",
   "id": "823d8fde",
   "metadata": {},
   "source": [
    "# Carregando a tabela clima"
   ]
  },
  {
   "cell_type": "code",
   "execution_count": 13,
   "id": "bf04b460",
   "metadata": {},
   "outputs": [],
   "source": [
    "db_connection = mysql.connector.connect(host='localhost', user='root', password='', database='trabalho_pratico_m2')\n",
    "cursor = db_connection.cursor()\n",
    "g = df['clima'].unique().tolist()\n",
    "count = 1\n",
    "for x in g:\n",
    "    sql = \"INSERT INTO clima (cod_clima,clima) VALUES ({},'{}')\".format(count,x)\n",
    "    cursor.execute(sql)\n",
    "    db_connection.commit()\n",
    "    count = count + 1\n",
    "db_connection.close()"
   ]
  },
  {
   "cell_type": "markdown",
   "id": "1ec1d047",
   "metadata": {},
   "source": [
    "# Carregando a tabela hobbie"
   ]
  },
  {
   "cell_type": "code",
   "execution_count": 15,
   "id": "1b2788d0",
   "metadata": {},
   "outputs": [],
   "source": [
    "db_connection = mysql.connector.connect(host='localhost', user='root', password='', database='trabalho_pratico_m2')\n",
    "cursor = db_connection.cursor()\n",
    "g = df['hobbies'].unique().tolist()\n",
    "count = 1\n",
    "for x in g:\n",
    "    sql = \"INSERT INTO hobbie (cod_hobbie,hobbie) VALUES ({},'{}')\".format(count,x)\n",
    "    cursor.execute(sql)\n",
    "    db_connection.commit()\n",
    "    count = count + 1\n",
    "db_connection.close()"
   ]
  },
  {
   "cell_type": "markdown",
   "id": "bb9d9034",
   "metadata": {},
   "source": [
    "# Carregando a tabela pessoa"
   ]
  },
  {
   "cell_type": "code",
   "execution_count": 36,
   "id": "c7ac0d27",
   "metadata": {},
   "outputs": [],
   "source": [
    "db_connection = mysql.connector.connect(host='localhost', user='root', password='', database='trabalho_pratico_m2')\n",
    "cursor = db_connection.cursor()\n",
    "g = df.values\n",
    "for x in g:\n",
    "    sql = \"INSERT INTO pessoa (cod_pessoa,genero,data_nascimento) VALUES ({},'{}','{}')\".format(x[0],x[2],x[3])\n",
    "    cursor.execute(sql)\n",
    "    db_connection.commit()\n",
    "db_connection.close()"
   ]
  },
  {
   "cell_type": "markdown",
   "id": "bfdd165f",
   "metadata": {},
   "source": [
    "# Carregando a tabela pesquisa"
   ]
  },
  {
   "cell_type": "code",
   "execution_count": 50,
   "id": "b9a40c2b",
   "metadata": {},
   "outputs": [],
   "source": [
    "db_connection = mysql.connector.connect(host='localhost', user='root', password='', database='trabalho_pratico_m2')\n",
    "cursor = db_connection.cursor()\n",
    "g = df.values\n",
    "count = 1\n",
    "for x in g:\n",
    "    sql = \"SELECT cod_animal_estimacao FROM animal_estimacao WHERE animal = '{}'\".format(x[4])\n",
    "    cursor.execute(sql)\n",
    "    animal_e = cursor.fetchall() \n",
    "    sql = \"SELECT cod_bebida FROM bebida WHERE bebida = '{}'\".format(x[6])\n",
    "    cursor.execute(sql)\n",
    "    bebida_e = cursor.fetchall()\n",
    "    sql = \"SELECT cod_hobbie FROM hobbie WHERE hobbie = '{}'\".format(x[7])\n",
    "    cursor.execute(sql)\n",
    "    hobbie_e = cursor.fetchall()\n",
    "    sql = \"SELECT cod_clima FROM clima WHERE clima = '{}'\".format(x[5])\n",
    "    cursor.execute(sql)\n",
    "    clima_e = cursor.fetchall()\n",
    "    sql = \"INSERT INTO pesquisa (cod_pesquisa,data_pesquisa,cod_pessoa,cod_animal_estimacao,cod_bebida,cod_hobbie,cod_clima) VALUES ({},'{}',{},{},{},{},{})\".format(count,x[1],x[0],animal_e[0][0],bebida_e[0][0],hobbie_e[0][0],clima_e[0][0])\n",
    "    cursor.execute(sql)\n",
    "    db_connection.commit()\n",
    "    count = count+1\n",
    "db_connection.close()"
   ]
  },
  {
   "cell_type": "markdown",
   "id": "a8514d90",
   "metadata": {},
   "source": [
    "# Respondendo a perguntas sobre o database"
   ]
  },
  {
   "cell_type": "markdown",
   "id": "0fe4b1b4",
   "metadata": {},
   "source": [
    "1. Qual é a soma das Pessoas que gostam de gato ou cachorro? Utilize operador IN na clausura where."
   ]
  },
  {
   "cell_type": "code",
   "execution_count": 53,
   "id": "c42cbcfb",
   "metadata": {},
   "outputs": [
    {
     "name": "stdout",
     "output_type": "stream",
     "text": [
      "1278\n"
     ]
    }
   ],
   "source": [
    "db_connection = mysql.connector.connect(host='localhost', user='root', password='', database='trabalho_pratico_m2')\n",
    "cursor = db_connection.cursor()\n",
    "sql = \"SELECT count(*) FROM pesquisa WHERE cod_animal_estimacao = 3 OR cod_animal_estimacao = 4 \"\n",
    "cursor.execute(sql)\n",
    "resp = cursor.fetchall()\n",
    "print(\"Resposta: {}\".format(resp[0][0]))"
   ]
  },
  {
   "cell_type": "markdown",
   "id": "06b71af4",
   "metadata": {},
   "source": [
    "2. Qual a média de idade dos mulheres que gostam de chá e clima frio?"
   ]
  },
  {
   "cell_type": "code",
   "execution_count": 69,
   "id": "9e4935c6",
   "metadata": {},
   "outputs": [
    {
     "name": "stdout",
     "output_type": "stream",
     "text": [
      "Resposta: 48.27591532\n"
     ]
    }
   ],
   "source": [
    "sql = \"SELECT AVG(DATEDIFF(pesquisa.data_pesquisa,pessoa.data_nascimento)/365) FROM pesquisa INNER \\\n",
    "        JOIN pessoa ON pesquisa.cod_pessoa=pessoa.cod_pessoa \\\n",
    "        INNER JOIN bebida ON pesquisa.cod_bebida = bebida.cod_bebida \\\n",
    "        INNER JOIN clima ON pesquisa.cod_clima = clima.cod_clima \\\n",
    "        WHERE pessoa.genero = 'Feminino' and bebida.bebida = 'Chá' and clima.clima = 'frio'\"\n",
    "cursor.execute(sql)\n",
    "resp = cursor.fetchall()\n",
    "print(\"Resposta: {}\".format(resp[0][0]))"
   ]
  },
  {
   "cell_type": "markdown",
   "id": "18ab8864",
   "metadata": {},
   "source": [
    "3. Qual o segundo maior hobbie de preferência entre os homens?"
   ]
  },
  {
   "cell_type": "code",
   "execution_count": 79,
   "id": "c91ef79d",
   "metadata": {},
   "outputs": [
    {
     "name": "stdout",
     "output_type": "stream",
     "text": [
      "Resposta: [('Aprender algo novo', 183), ('Praticar esporte', 175), ('Escrever', 182), ('Escutar música', 153), ('Pintar quadros', 171), ('Assistir TV', 173), ('Dormir', 184), ('Ler livros', 177)]\n"
     ]
    }
   ],
   "source": [
    "sql = \"SELECT hobbie.hobbie, count(hobbie.hobbie) AS c FROM hobbie INNER \\\n",
    "        JOIN pesquisa ON pesquisa.cod_hobbie=hobbie.cod_hobbie \\\n",
    "        INNER JOIN pessoa ON pesquisa.cod_pessoa = pessoa.cod_pessoa \\\n",
    "        WHERE pessoa.genero = 'Masculino'\\\n",
    "        GROUP BY hobbie.hobbie\"\n",
    "cursor.execute(sql)\n",
    "resp = cursor.fetchall()\n",
    "print(\"Resposta: {}\".format(resp))"
   ]
  },
  {
   "cell_type": "markdown",
   "id": "1adc6794",
   "metadata": {},
   "source": [
    "4. Qual é a média de idade das pessoas que têm como hobbie assistir TV?"
   ]
  },
  {
   "cell_type": "code",
   "execution_count": 92,
   "id": "14104992",
   "metadata": {},
   "outputs": [
    {
     "name": "stdout",
     "output_type": "stream",
     "text": [
      "Resposta: 44.56202927\n"
     ]
    }
   ],
   "source": [
    "sql = \"SELECT AVG(DATEDIFF(pesquisa.data_pesquisa,pessoa.data_nascimento)/365) FROM pesquisa\\\n",
    "        INNER JOIN pessoa ON pesquisa.cod_pessoa=pessoa.cod_pessoa\\\n",
    "        INNER JOIN hobbie ON pesquisa.cod_hobbie = hobbie.cod_hobbie \\\n",
    "        WHERE hobbie.hobbie = 'assistir TV'\"\n",
    "cursor.execute(sql)\n",
    "resp = cursor.fetchall()\n",
    "print(\"Resposta: {}\".format(resp[0][0]))"
   ]
  },
  {
   "cell_type": "markdown",
   "id": "86ffa034",
   "metadata": {},
   "source": [
    "5. Quantas pessoas têm como hobbie como ler livros e qual a sua média de idade respectivamente?"
   ]
  },
  {
   "cell_type": "code",
   "execution_count": 96,
   "id": "e938d259",
   "metadata": {},
   "outputs": [
    {
     "name": "stdout",
     "output_type": "stream",
     "text": [
      "Resposta: 257\n",
      "Resposta: 44.10956772\n"
     ]
    }
   ],
   "source": [
    "sql = \"SELECT count(*) FROM pesquisa WHERE cod_hobbie = 3\"\n",
    "cursor.execute(sql)\n",
    "resp = cursor.fetchall()\n",
    "print(\"Resposta: {}\".format(resp[0][0]))\n",
    "sql = \"SELECT AVG(DATEDIFF(pesquisa.data_pesquisa,pessoa.data_nascimento))/365 FROM pesquisa\\\n",
    "        INNER JOIN pessoa ON pesquisa.cod_pessoa = pessoa.cod_pessoa\\\n",
    "        INNER JOIN hobbie ON pesquisa.cod_hobbie = hobbie.cod_hobbie\\\n",
    "        WHERE hobbie.cod_hobbie = 3\"\n",
    "cursor.execute(sql)\n",
    "resp = cursor.fetchall()\n",
    "print(\"Resposta: {}\".format(resp[0][0]))"
   ]
  },
  {
   "cell_type": "markdown",
   "id": "07b8f719",
   "metadata": {},
   "source": [
    "6. Qual a quantidade de pessoas que gostam de tempo moderado?"
   ]
  },
  {
   "cell_type": "code",
   "execution_count": 97,
   "id": "d406de01",
   "metadata": {},
   "outputs": [
    {
     "name": "stdout",
     "output_type": "stream",
     "text": [
      "Resposta: 711\n"
     ]
    }
   ],
   "source": [
    "sql = \"SELECT count(*) FROM pesquisa\\\n",
    "        INNER JOIN clima ON pesquisa.cod_clima = clima.cod_clima\\\n",
    "        WHERE clima.clima = 'moderado'\"\n",
    "cursor.execute(sql)\n",
    "resp = cursor.fetchall()\n",
    "print(\"Resposta: {}\".format(resp[0][0]))"
   ]
  },
  {
   "cell_type": "markdown",
   "id": "91070d79",
   "metadata": {},
   "source": [
    "7. Qual o animal de estimação preferido entre as mulheres?"
   ]
  },
  {
   "cell_type": "code",
   "execution_count": 100,
   "id": "6a333ea4",
   "metadata": {},
   "outputs": [
    {
     "name": "stdout",
     "output_type": "stream",
     "text": [
      "Resposta: [('peixe', 158), ('tartaruga', 149), ('gato', 279), ('cachorro', 143)]\n"
     ]
    }
   ],
   "source": [
    "sql = \"SELECT animal_estimacao.animal, count(*) FROM animal_estimacao\\\n",
    "        INNER JOIN pesquisa ON pesquisa.cod_animal_estimacao = animal_estimacao.cod_animal_estimacao\\\n",
    "        INNER JOIN pessoa ON pesquisa.cod_pessoa = pessoa.cod_pessoa\\\n",
    "        WHERE pessoa.genero = 'Feminino'\\\n",
    "        GROUP BY animal_estimacao.animal\"\n",
    "cursor.execute(sql)\n",
    "resp = cursor.fetchall()\n",
    "print(\"Resposta: {}\".format(resp))"
   ]
  },
  {
   "cell_type": "markdown",
   "id": "d99b0c66",
   "metadata": {},
   "source": [
    "8. Quantas pessoas gostam de clima quente por gênero?"
   ]
  },
  {
   "cell_type": "code",
   "execution_count": 103,
   "id": "be477631",
   "metadata": {},
   "outputs": [
    {
     "name": "stdout",
     "output_type": "stream",
     "text": [
      "Resposta: [('Feminino', 246), ('Masculino', 447)]\n"
     ]
    }
   ],
   "source": [
    "sql = \"SELECT pessoa.genero, count(*) FROM pessoa\\\n",
    "        INNER JOIN pesquisa ON pesquisa.cod_pessoa = pessoa.cod_pessoa\\\n",
    "        INNER JOIN clima ON pesquisa.cod_clima = clima.cod_clima\\\n",
    "        WHERE clima.clima = 'quente'\\\n",
    "        GROUP BY pessoa.genero\"\n",
    "cursor.execute(sql)\n",
    "resp = cursor.fetchall()\n",
    "print(\"Resposta: {}\".format(resp))"
   ]
  },
  {
   "cell_type": "markdown",
   "id": "e1db6c3a",
   "metadata": {},
   "source": [
    "9. Quantas pessoas do sexo masculino gostam de cachorro e possuem hobbie de assistir tv?"
   ]
  },
  {
   "cell_type": "code",
   "execution_count": 105,
   "id": "913c333b",
   "metadata": {},
   "outputs": [
    {
     "name": "stdout",
     "output_type": "stream",
     "text": [
      "Resposta: 44\n"
     ]
    }
   ],
   "source": [
    "sql = \"SELECT count(*) FROM pesquisa\\\n",
    "        INNER JOIN animal_estimacao ON pesquisa.cod_animal_estimacao = animal_estimacao.cod_animal_estimacao\\\n",
    "        INNER JOIN hobbie ON pesquisa.cod_hobbie = hobbie.cod_hobbie\\\n",
    "        INNER JOIN pessoa ON pesquisa.cod_pessoa = pessoa.cod_pessoa\\\n",
    "        WHERE pessoa.genero='Masculino' and animal_estimacao.animal = 'cachorro' and hobbie.hobbie = 'assistir TV'\"\n",
    "cursor.execute(sql)\n",
    "resp = cursor.fetchall()\n",
    "print(\"Resposta: {}\".format(resp[0][0]))"
   ]
  }
 ],
 "metadata": {
  "kernelspec": {
   "display_name": "coleta_dados",
   "language": "python",
   "name": "coleta_dados"
  },
  "language_info": {
   "codemirror_mode": {
    "name": "ipython",
    "version": 3
   },
   "file_extension": ".py",
   "mimetype": "text/x-python",
   "name": "python",
   "nbconvert_exporter": "python",
   "pygments_lexer": "ipython3",
   "version": "3.9.13"
  }
 },
 "nbformat": 4,
 "nbformat_minor": 5
}
